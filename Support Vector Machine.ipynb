{
 "cells": [
  {
   "cell_type": "code",
   "execution_count": 1,
   "metadata": {
    "ExecuteTime": {
     "end_time": "2021-06-29T05:35:31.315423Z",
     "start_time": "2021-06-29T05:35:23.524362Z"
    }
   },
   "outputs": [],
   "source": [
    "%matplotlib inline\n",
    "import numpy as np\n",
    "from matplotlib import pyplot as plt\n",
    "from scipy.optimize import minimize"
   ]
  },
  {
   "cell_type": "code",
   "execution_count": 2,
   "metadata": {
    "ExecuteTime": {
     "end_time": "2021-06-29T05:35:31.510137Z",
     "start_time": "2021-06-29T05:35:31.319468Z"
    }
   },
   "outputs": [
    {
     "name": "stdout",
     "output_type": "stream",
     "text": [
      "[[-0.51503939  0.59189672]\n",
      " [ 0.0478734  -0.48840469]\n",
      " [-0.35495284 -0.39181335]\n",
      " [ 1.86426106 -1.37148975]\n",
      " [ 2.22627536 -0.11810965]\n",
      " [ 0.11984837  0.18259889]\n",
      " [-0.65773926 -1.64623164]\n",
      " [-1.14158407 -1.43908939]\n",
      " [ 0.74499231 -1.73922014]\n",
      " [-0.33219719 -0.73841346]\n",
      " [ 2.76621424  3.24691448]\n",
      " [ 5.82252138  2.0308695 ]\n",
      " [ 1.73381416  5.01766574]\n",
      " [ 4.10880587  2.9161463 ]\n",
      " [ 1.80119809  5.93170517]\n",
      " [ 3.88251299  1.21776835]\n",
      " [ 3.4819637   4.93600617]\n",
      " [ 3.00786723  3.0115029 ]\n",
      " [ 2.48139631  3.26794196]\n",
      " [ 2.65161228  2.98947907]]\n"
     ]
    },
    {
     "data": {
      "image/png": "[encoded data removed]",
      "text/plain": [
       "<Figure size 432x288 with 1 Axes>"
      ]
     },
     "metadata": {
      "image/png": {
       "height": 248,
       "width": 370
      },
      "needs_background": "light"
     },
     "output_type": "display_data"
    }
   ],
   "source": [
    "np.random.seed(9999)\n",
    "xp = np.random.randn(10, 2)\n",
    "xm = np.random.randn(10, 2) + [3, 3]\n",
    "plt.plot(xp[:, 0], xp[:,1], '.b')\n",
    "plt.plot(xm[:, 0], xm[:,1], '.r')\n",
    "data = np.concatenate([xp, xm], axis=0)\n",
    "classes = np.array([1]*10+[-1]*10)\n",
    "print(data)"
   ]
  },
  {
   "cell_type": "markdown",
   "metadata": {},
   "source": [
    "1) What is an equation of line/plane? "
   ]
  },
  {
   "cell_type": "code",
   "execution_count": null,
   "metadata": {
    "collapsed": true
   },
   "outputs": [],
   "source": []
  },
  {
   "cell_type": "markdown",
   "metadata": {},
   "source": [
    "2) Explain geometrical interpretation of the two parameters"
   ]
  },
  {
   "cell_type": "code",
   "execution_count": null,
   "metadata": {
    "collapsed": true
   },
   "outputs": [],
   "source": []
  },
  {
   "cell_type": "markdown",
   "metadata": {},
   "source": [
    "3) How do you determine whether a point $\\vec{x}$ is one side of the line or another?"
   ]
  },
  {
   "cell_type": "code",
   "execution_count": null,
   "metadata": {
    "collapsed": true
   },
   "outputs": [],
   "source": []
  },
  {
   "cell_type": "markdown",
   "metadata": {},
   "source": [
    "4) Given a line, is $\\vec{w}$ and $b$ unique. (Are there two equation that represents the same line?)"
   ]
  },
  {
   "cell_type": "code",
   "execution_count": null,
   "metadata": {},
   "outputs": [],
   "source": []
  },
  {
   "cell_type": "markdown",
   "metadata": {},
   "source": [
    "5) Give another equation for the line represent by $\\vec{w}=[1,2]$, $b=3$."
   ]
  },
  {
   "cell_type": "code",
   "execution_count": null,
   "metadata": {
    "collapsed": true
   },
   "outputs": [],
   "source": []
  },
  {
   "cell_type": "markdown",
   "metadata": {},
   "source": [
    "6) If we want $b$ in the previous equation to be 1. What should $\\vec{w}$ be"
   ]
  },
  {
   "cell_type": "code",
   "execution_count": null,
   "metadata": {
    "collapsed": true
   },
   "outputs": [],
   "source": []
  },
  {
   "cell_type": "markdown",
   "metadata": {},
   "source": [
    "7) Draw a line defined by $\\vec{w}=[2,3]$, $b=1$."
   ]
  },
  {
   "cell_type": "code",
   "execution_count": null,
   "metadata": {},
   "outputs": [],
   "source": []
  },
  {
   "cell_type": "markdown",
   "metadata": {},
   "source": [
    "8) Draw a green point on the side where $\\vec{w}\\cdot\\vec{x} + b > 0$ and a blue point on the other side."
   ]
  },
  {
   "cell_type": "code",
   "execution_count": null,
   "metadata": {},
   "outputs": [],
   "source": []
  },
  {
   "cell_type": "markdown",
   "metadata": {},
   "source": [
    "9) What is a linearly separable data?"
   ]
  },
  {
   "cell_type": "code",
   "execution_count": null,
   "metadata": {},
   "outputs": [],
   "source": []
  },
  {
   "cell_type": "markdown",
   "metadata": {},
   "source": [
    "10) What is a margin?"
   ]
  },
  {
   "cell_type": "code",
   "execution_count": null,
   "metadata": {},
   "outputs": [],
   "source": []
  },
  {
   "cell_type": "markdown",
   "metadata": {},
   "source": [
    "11) How do we calculate the margin? And with that formula what kind of normalization are we using?"
   ]
  },
  {
   "cell_type": "code",
   "execution_count": null,
   "metadata": {},
   "outputs": [],
   "source": []
  },
  {
   "cell_type": "markdown",
   "metadata": {},
   "source": [
    "12) What are we trying to optimize? What are our contraint?"
   ]
  },
  {
   "cell_type": "code",
   "execution_count": null,
   "metadata": {
    "collapsed": true
   },
   "outputs": [],
   "source": []
  },
  {
   "cell_type": "markdown",
   "metadata": {},
   "source": [
    "13) Can we use gradient descent with constrained optimization? Why?"
   ]
  },
  {
   "cell_type": "code",
   "execution_count": null,
   "metadata": {},
   "outputs": [],
   "source": []
  },
  {
   "cell_type": "markdown",
   "metadata": {},
   "source": [
    "14) Given these data points find the line of maximum margin. Draw it along with data points.\n",
    "\n",
    "Use numpy.optimize.minimize with method = SLSQP\n",
    "\n",
    "Read the doc here.\n",
    "http://docs.scipy.org/doc/scipy/reference/tutorial/optimize.html#constrained-minimization-of-multivariate-scalar-functions-minimize"
   ]
  },
  {
   "cell_type": "code",
   "execution_count": 3,
   "metadata": {
    "ExecuteTime": {
     "end_time": "2021-06-29T05:35:37.992529Z",
     "start_time": "2021-06-29T05:35:37.970681Z"
    }
   },
   "outputs": [
    {
     "data": {
      "text/plain": [
       "     fun: 19.999999999988923\n",
       "     jac: array([8., 4.])\n",
       " message: 'Optimization terminated successfully.'\n",
       "    nfev: 8\n",
       "     nit: 2\n",
       "    njev: 2\n",
       "  status: 0\n",
       " success: True\n",
       "       x: array([5., 4.])"
      ]
     },
     "execution_count": 3,
     "metadata": {},
     "output_type": "execute_result"
    }
   ],
   "source": [
    "#Example\n",
    "\n",
    "def f(x):\n",
    "    a, b = x\n",
    "    return (a-1)**2 + (b-2)**2\n",
    "\n",
    "# minimize f(x)\n",
    "# subject to: x -----> (a, b)\n",
    "# a - 5 >= 0\n",
    "# b - 4 >= 0\n",
    "\n",
    "#return list of things that should be greater than 0\n",
    "def constraints(x):\n",
    "    a, b = x\n",
    "    return [a-5, b-4]\n",
    "\n",
    "cons = ({'type': 'ineq',\n",
    "         'fun' : constraints})\n",
    "\n",
    "minimize(f, [10., 10.], method=\"SLSQP\", constraints=cons)"
   ]
  },
  {
   "cell_type": "code",
   "execution_count": 24,
   "metadata": {
    "ExecuteTime": {
     "end_time": "2021-06-29T05:46:09.770183Z",
     "start_time": "2021-06-29T05:46:09.750905Z"
    }
   },
   "outputs": [
    {
     "name": "stdout",
     "output_type": "stream",
     "text": [
      "     fun: 0.9399213290045167\n",
      "     jac: array([ 0.        , -0.77837882, -0.62779488])\n",
      " message: 'Optimization terminated successfully.'\n",
      "    nfev: 30\n",
      "     nit: 6\n",
      "    njev: 6\n",
      "  status: 0\n",
      " success: True\n",
      "       x: array([ 2.55908225, -0.73161485, -0.5900778 ])\n"
     ]
    }
   ],
   "source": [
    "def cost(v):\n",
    "    w = v[1:]\n",
    "    b = v[0]\n",
    "    return np.linalg.norm(w)\n",
    "\n",
    "def constraints(v):\n",
    "    w = v[1:]\n",
    "    b = v[0]\n",
    "    \n",
    "    return classes*(data@w + b) - 1\n",
    "    \n",
    "cons = ({'type': 'ineq',\n",
    "         'fun' : constraints})\n",
    "\n",
    "res = minimize(cost, np.array([1.,1.,1.]), method=\"SLSQP\", constraints=cons)\n",
    "print(res)"
   ]
  },
  {
   "cell_type": "code",
   "execution_count": 25,
   "metadata": {
    "ExecuteTime": {
     "end_time": "2021-06-29T05:46:10.249107Z",
     "start_time": "2021-06-29T05:46:10.075764Z"
    }
   },
   "outputs": [
    {
     "data": {
      "text/plain": [
       "[<matplotlib.lines.Line2D at 0x7fb130e695c0>]"
      ]
     },
     "execution_count": 25,
     "metadata": {},
     "output_type": "execute_result"
    },
    {
     "data": {
      "image/png": "[encoded data removed]",
      "text/plain": [
       "<Figure size 432x288 with 1 Axes>"
      ]
     },
     "metadata": {
      "image/png": {
       "height": 248,
       "width": 370
      },
      "needs_background": "light"
     },
     "output_type": "display_data"
    }
   ],
   "source": [
    "b = res.x[0]\n",
    "w = res.x[1:]\n",
    "\n",
    "m = -w[0]/w[1]\n",
    "c = -b/w[1]\n",
    "\n",
    "xs , ys = data.T\n",
    "plt.scatter(xs, ys, color=[f'C{x+1}' for x in classes])\n",
    "\n",
    "xs = np.linspace(-1,6,100)\n",
    "ys = m*xs + c\n",
    "plt.plot(xs, ys)"
   ]
  },
  {
   "cell_type": "markdown",
   "metadata": {},
   "source": [
    "15) What is a slack variable?"
   ]
  },
  {
   "cell_type": "code",
   "execution_count": 7,
   "metadata": {
    "ExecuteTime": {
     "end_time": "2021-06-29T05:39:12.112738Z",
     "start_time": "2021-06-29T05:39:12.101790Z"
    }
   },
   "outputs": [
    {
     "data": {
      "text/plain": [
       "array([-0.74561137,  1.36946727,  1.88534573,  0.38594713, -4.09822179,\n",
       "       -0.7874934 ,  6.25417343,  6.60043632,  3.72767579,  2.87963476,\n",
       "       17.27317192, 19.73765126, 20.52062552, 18.96605065, 23.39751169,\n",
       "       13.41833103, 23.77194593, 17.05024315, 16.76661851, 16.27166178])"
      ]
     },
     "execution_count": 7,
     "metadata": {},
     "output_type": "execute_result"
    }
   ],
   "source": [
    "constraints(np.array([1,2,3]))"
   ]
  },
  {
   "cell_type": "markdown",
   "metadata": {},
   "source": [
    "16) How do we penalize the slack variable."
   ]
  },
  {
   "cell_type": "code",
   "execution_count": null,
   "metadata": {
    "collapsed": true
   },
   "outputs": [],
   "source": []
  },
  {
   "cell_type": "markdown",
   "metadata": {},
   "source": [
    "17) Plot soft margin cost function along with logistic cost."
   ]
  },
  {
   "cell_type": "code",
   "execution_count": null,
   "metadata": {
    "collapsed": true
   },
   "outputs": [],
   "source": []
  },
  {
   "cell_type": "markdown",
   "metadata": {},
   "source": [
    "18) How can we view our new and penalized cost function as a regularization?"
   ]
  },
  {
   "cell_type": "code",
   "execution_count": null,
   "metadata": {
    "collapsed": true
   },
   "outputs": [],
   "source": []
  },
  {
   "cell_type": "markdown",
   "metadata": {},
   "source": [
    "19) Try your new cost function with these data points."
   ]
  },
  {
   "cell_type": "code",
   "execution_count": 26,
   "metadata": {
    "ExecuteTime": {
     "end_time": "2021-06-29T05:48:37.023629Z",
     "start_time": "2021-06-29T05:48:36.830621Z"
    }
   },
   "outputs": [
    {
     "data": {
      "image/png": "[encoded data removed]",
      "text/plain": [
       "<Figure size 432x288 with 1 Axes>"
      ]
     },
     "metadata": {
      "image/png": {
       "height": 248,
       "width": 370
      },
      "needs_background": "light"
     },
     "output_type": "display_data"
    }
   ],
   "source": [
    "np.random.seed(9999)\n",
    "xp = np.random.randn(10, 2)\n",
    "xm = np.random.randn(10, 2) + [1, 1]\n",
    "plt.plot(xp[:, 0], xp[:,1], '.b')\n",
    "plt.plot(xm[:, 0], xm[:,1], '.r')\n",
    "data = np.concatenate([xp, xm], axis=0)\n",
    "classes = np.array([1]*10+[-1]*10)"
   ]
  },
  {
   "cell_type": "code",
   "execution_count": 32,
   "metadata": {
    "ExecuteTime": {
     "end_time": "2021-06-29T05:53:04.366920Z",
     "start_time": "2021-06-29T05:53:04.316297Z"
    }
   },
   "outputs": [],
   "source": [
    "lmb = 100\n",
    "def cost(v):\n",
    "    b = v[0]\n",
    "    w = v[1:]\n",
    "    l2 = np.linalg.norm(w)**2\n",
    "    zi = 1-classes*(data@w + b)\n",
    "    slacks = np.sum(np.maximum(0, zi))\n",
    "    return 0.5*l2 + lmb*slacks\n",
    "\n",
    "res =minimize(cost, [0,0,0])\n",
    "    "
   ]
  },
  {
   "cell_type": "code",
   "execution_count": 34,
   "metadata": {
    "ExecuteTime": {
     "end_time": "2021-06-29T05:53:05.825812Z",
     "start_time": "2021-06-29T05:53:05.620184Z"
    }
   },
   "outputs": [
    {
     "data": {
      "text/plain": [
       "[<matplotlib.lines.Line2D at 0x7fb130eb20f0>]"
      ]
     },
     "execution_count": 34,
     "metadata": {},
     "output_type": "execute_result"
    },
    {
     "data": {
      "image/png": "[encoded data removed]",
      "text/plain": [
       "<Figure size 432x288 with 1 Axes>"
      ]
     },
     "metadata": {
      "image/png": {
       "height": 248,
       "width": 370
      },
      "needs_background": "light"
     },
     "output_type": "display_data"
    }
   ],
   "source": [
    "b = res.x[0]\n",
    "w = res.x[1:]\n",
    "\n",
    "m = -w[0]/w[1]\n",
    "c = -b/w[1]\n",
    "\n",
    "xs , ys = data.T\n",
    "plt.scatter(xs, ys, color=[f'C{x+1}' for x in classes])\n",
    "\n",
    "xs = np.linspace(-1,6,100)\n",
    "ys = m*xs + c\n",
    "plt.plot(xs, ys)"
   ]
  },
  {
   "cell_type": "markdown",
   "metadata": {},
   "source": [
    "20) What if we want a curved line? Draw contour plot."
   ]
  },
  {
   "cell_type": "code",
   "execution_count": 5,
   "metadata": {},
   "outputs": [
    {
     "name": "stdout",
     "output_type": "stream",
     "text": [
      "[-1 -1 -1  1  1 -1  1  1  1 -1 -1  1  1 -1  1  1  1 -1 -1 -1]\n"
     ]
    },
    {
     "data": {
      "text/plain": [
       "[<matplotlib.lines.Line2D at 0x11881ffd0>]"
      ]
     },
     "execution_count": 5,
     "metadata": {},
     "output_type": "execute_result"
    },
    {
     "data": {
      "image/png": "[encoded data removed]",
      "text/plain": [
       "<Figure size 432x288 with 1 Axes>"
      ]
     },
     "metadata": {
      "image/png": {
       "height": 250,
       "width": 382
      },
      "needs_background": "light"
     },
     "output_type": "display_data"
    }
   ],
   "source": [
    "np.random.seed(9999)\n",
    "data = np.random.random((20,2))*2-1\n",
    "def is_pos(x):\n",
    "    return 1 if np.linalg.norm(x-[0.1,0.1])<0.6 else -1\n",
    "classes = np.array([is_pos(x) for x in data])\n",
    "print(classes)\n",
    "plt.plot(data[classes==1,0], data[classes==1,1], '.b')\n",
    "plt.plot(data[classes==-1,0], data[classes==-1,1], '.r')\n",
    "\n",
    "\n"
   ]
  },
  {
   "cell_type": "markdown",
   "metadata": {},
   "source": [
    "21) What are the support vectors?"
   ]
  },
  {
   "cell_type": "code",
   "execution_count": null,
   "metadata": {
    "collapsed": true
   },
   "outputs": [],
   "source": []
  }
 ],
 "metadata": {
  "hide_input": false,
  "kernelspec": {
   "display_name": "Python 3",
   "language": "python",
   "name": "python3"
  },
  "language_info": {
   "codemirror_mode": {
    "name": "ipython",
    "version": 3
   },
   "file_extension": ".py",
   "mimetype": "text/x-python",
   "name": "python",
   "nbconvert_exporter": "python",
   "pygments_lexer": "ipython3",
   "version": "3.7.3"
  },
  "toc": {
   "colors": {
    "hover_highlight": "#DAA520",
    "running_highlight": "#FF0000",
    "selected_highlight": "#FFD700"
   },
   "moveMenuLeft": true,
   "nav_menu": {
    "height": "11px",
    "width": "251px"
   },
   "navigate_menu": true,
   "number_sections": false,
   "sideBar": true,
   "threshold": 4,
   "toc_cell": false,
   "toc_section_display": "block",
   "toc_window_display": false
  }
 },
 "nbformat": 4,
 "nbformat_minor": 1
}
